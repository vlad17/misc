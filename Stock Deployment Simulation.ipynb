{
 "cells": [
  {
   "cell_type": "code",
   "execution_count": 1,
   "metadata": {},
   "outputs": [],
   "source": [
    "# Deploying $100 in 6 installments\n",
    "# each installment can be a different amount\n",
    "# Use S&P500 as a baseline here\n",
    "# 2019 March 8th, beginning of Coronovirus correction\n",
    "# I expect the market to go down x% over some duration D\n",
    "# because we're \"in a correction\", where a correction is\n",
    "# the market falling in M days by p amount.\n",
    "\n",
    "# Goal is to minimize average cost of a bought stock"
   ]
  },
  {
   "cell_type": "code",
   "execution_count": null,
   "metadata": {},
   "outputs": [],
   "source": [
    "M = 15\n",
    "p = 0.10\n",
    "\n",
    "\n",
    "# TODO backtest this proc based on previous \"corrections\"\n",
    "# https://www.zipline.io/index.html\n",
    "# see john langford online backtesting paper for eval?"
   ]
  },
  {
   "cell_type": "code",
   "execution_count": null,
   "metadata": {},
   "outputs": [],
   "source": [
    "# allocation of vanguar ETFs (BND, VTI, BNDX, VXUS)\n",
    "# between Intl/US and Stock/Bond, my default is 20/80 and 70/30 a priori\n",
    "# from taking \"risk surveys\" and shit like that\n",
    "# Over these 4 options with monthly re-allocation\n",
    "# with a bounding box on extremal allocations defined by my prefs below\n",
    "# (also a-priori) how much can we improve with an anytime multiplicative weights algorithm?"
   ]
  }
 ],
 "metadata": {
  "kernelspec": {
   "display_name": "Python 3",
   "language": "python",
   "name": "python3"
  },
  "language_info": {
   "codemirror_mode": {
    "name": "ipython",
    "version": 3
   },
   "file_extension": ".py",
   "mimetype": "text/x-python",
   "name": "python",
   "nbconvert_exporter": "python",
   "pygments_lexer": "ipython3",
   "version": "3.7.4"
  }
 },
 "nbformat": 4,
 "nbformat_minor": 2
}
